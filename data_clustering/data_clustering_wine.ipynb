{
 "cells": [
  {
   "cell_type": "code",
   "execution_count": 2,
   "id": "60714e9f",
   "metadata": {
    "execution": {
     "iopub.execute_input": "2023-06-23T13:06:50.836374Z",
     "iopub.status.busy": "2023-06-23T13:06:50.835845Z",
     "iopub.status.idle": "2023-06-23T13:06:52.940365Z",
     "shell.execute_reply": "2023-06-23T13:06:52.939375Z"
    },
    "papermill": {
     "duration": 2.118231,
     "end_time": "2023-06-23T13:06:52.942930",
     "exception": false,
     "start_time": "2023-06-23T13:06:50.824699",
     "status": "completed"
    },
    "tags": []
   },
   "outputs": [],
   "source": [
    "# Importing and loading necessary packages\n",
    "import numpy as np \n",
    "import pandas as pd \n",
    "import seaborn as sns\n",
    "import matplotlib.pyplot as plt\n",
    "from sklearn.preprocessing import StandardScaler\n",
    "from sklearn.decomposition import PCA\n",
    "from sklearn.cluster import KMeans\n",
    "from sklearn.manifold import TSNE"
   ]
  },
  {
   "cell_type": "code",
   "execution_count": null,
   "id": "4a40abe2",
   "metadata": {
    "execution": {
     "iopub.execute_input": "2023-06-23T13:06:52.965047Z",
     "iopub.status.busy": "2023-06-23T13:06:52.964605Z",
     "iopub.status.idle": "2023-06-23T13:06:52.989686Z",
     "shell.execute_reply": "2023-06-23T13:06:52.988789Z"
    },
    "papermill": {
     "duration": 0.038847,
     "end_time": "2023-06-23T13:06:52.992221",
     "exception": false,
     "start_time": "2023-06-23T13:06:52.953374",
     "status": "completed"
    },
    "tags": []
   },
   "outputs": [],
   "source": [
    "# Importing data\n",
    "data = pd.read_csv(r'C:\\zerve\\usecases\\data_clustering\\dataset\\wine-clustering.csv')\n",
    "# Viewing data.head()\n",
    "data.head()"
   ]
  },
  {
   "cell_type": "code",
   "execution_count": null,
   "id": "b7f48c93",
   "metadata": {
    "execution": {
     "iopub.execute_input": "2023-06-23T13:06:53.131458Z",
     "iopub.status.busy": "2023-06-23T13:06:53.131059Z",
     "iopub.status.idle": "2023-06-23T13:06:53.157291Z",
     "shell.execute_reply": "2023-06-23T13:06:53.155602Z"
    },
    "papermill": {
     "duration": 0.039946,
     "end_time": "2023-06-23T13:06:53.159846",
     "exception": false,
     "start_time": "2023-06-23T13:06:53.119900",
     "status": "completed"
    },
    "tags": []
   },
   "outputs": [],
   "source": [
    "# Viewing data.info()\n",
    "data.info()"
   ]
  },
  {
   "cell_type": "code",
   "execution_count": null,
   "id": "ecc40702",
   "metadata": {
    "execution": {
     "iopub.execute_input": "2023-06-23T13:06:53.273953Z",
     "iopub.status.busy": "2023-06-23T13:06:53.273542Z",
     "iopub.status.idle": "2023-06-23T13:06:57.193244Z",
     "shell.execute_reply": "2023-06-23T13:06:57.191938Z"
    },
    "papermill": {
     "duration": 3.934637,
     "end_time": "2023-06-23T13:06:57.196591",
     "exception": false,
     "start_time": "2023-06-23T13:06:53.261954",
     "status": "completed"
    },
    "tags": []
   },
   "outputs": [],
   "source": [
    "# Creating histograms of features to view data distribution\n",
    "sns.set(style='darkgrid',font_scale=2, rc={'figure.figsize':(20,20)})\n",
    "ax=data.hist(bins=20,color='blue' )"
   ]
  },
  {
   "cell_type": "code",
   "execution_count": null,
   "id": "9c9976e9",
   "metadata": {
    "execution": {
     "iopub.execute_input": "2023-06-23T13:06:57.248968Z",
     "iopub.status.busy": "2023-06-23T13:06:57.247804Z",
     "iopub.status.idle": "2023-06-23T13:06:57.257732Z",
     "shell.execute_reply": "2023-06-23T13:06:57.256561Z"
    },
    "papermill": {
     "duration": 0.025818,
     "end_time": "2023-06-23T13:06:57.259950",
     "exception": false,
     "start_time": "2023-06-23T13:06:57.234132",
     "status": "completed"
    },
    "tags": []
   },
   "outputs": [],
   "source": [
    "# Checking the skew of the data\n",
    "data.skew()"
   ]
  },
  {
   "cell_type": "code",
   "execution_count": null,
   "id": "dc253f90",
   "metadata": {
    "execution": {
     "iopub.execute_input": "2023-06-23T13:06:57.336904Z",
     "iopub.status.busy": "2023-06-23T13:06:57.336291Z",
     "iopub.status.idle": "2023-06-23T13:06:59.080929Z",
     "shell.execute_reply": "2023-06-23T13:06:59.079828Z"
    },
    "papermill": {
     "duration": 1.761962,
     "end_time": "2023-06-23T13:06:59.083472",
     "exception": false,
     "start_time": "2023-06-23T13:06:57.321510",
     "status": "completed"
    },
    "tags": []
   },
   "outputs": [],
   "source": [
    "# Plotting the distribution of data with boxplots\n",
    "data.plot( kind = 'box', subplots = True, layout = (4,4), sharex = False, sharey = False,color='black')\n",
    "plt.show()"
   ]
  },
  {
   "cell_type": "code",
   "execution_count": null,
   "id": "bb564ad5",
   "metadata": {
    "execution": {
     "iopub.execute_input": "2023-06-23T13:06:59.173394Z",
     "iopub.status.busy": "2023-06-23T13:06:59.172520Z",
     "iopub.status.idle": "2023-06-23T13:07:00.157733Z",
     "shell.execute_reply": "2023-06-23T13:07:00.156893Z"
    },
    "papermill": {
     "duration": 1.005427,
     "end_time": "2023-06-23T13:07:00.161648",
     "exception": false,
     "start_time": "2023-06-23T13:06:59.156221",
     "status": "completed"
    },
    "tags": []
   },
   "outputs": [],
   "source": [
    "# Creating a heatmap of feature correlation\n",
    "plt.figure(figsize=(16, 10))\n",
    "mask = np.tril(data.corr())\n",
    "sns.heatmap(data.corr(), cmap=\"coolwarm\", annot=True, fmt='.2f', annot_kws={'size': 'x-small'}, linewidths=0.5, square=True, mask=mask);"
   ]
  },
  {
   "cell_type": "code",
   "execution_count": 11,
   "id": "f50f45f9",
   "metadata": {
    "execution": {
     "iopub.execute_input": "2023-06-23T13:07:00.381410Z",
     "iopub.status.busy": "2023-06-23T13:07:00.381005Z",
     "iopub.status.idle": "2023-06-23T13:07:00.391615Z",
     "shell.execute_reply": "2023-06-23T13:07:00.390561Z"
    },
    "papermill": {
     "duration": 0.033401,
     "end_time": "2023-06-23T13:07:00.395267",
     "exception": false,
     "start_time": "2023-06-23T13:07:00.361866",
     "status": "completed"
    },
    "tags": []
   },
   "outputs": [],
   "source": [
    "# Applying StandardScaler()\n",
    "scaler = StandardScaler()\n",
    "data_scaled = pd.DataFrame(scaler.fit_transform(data), columns = data.columns)\n",
    "\n",
    "# PCA\n",
    "# Applying PCA, n_components = 2\n",
    "pca = PCA(n_components=2)\n",
    "X_pca = pca.fit_transform(data_scaled)\n",
    "pca_data = pd.DataFrame(data = X_pca, columns = ['PC1', 'PC2'])\n",
    "print('Shape after PCA: ', pca_data.shape)\n",
    "print('Original shape: ', data_scaled.shape)\n",
    "print ('Cumulative variance explained by 2 principal components: {:.2%}'.format(np.sum(pca.explained_variance_ratio_)))"
   ]
  },
  {
   "cell_type": "code",
   "execution_count": null,
   "id": "7a334f08",
   "metadata": {
    "execution": {
     "iopub.execute_input": "2023-06-23T13:07:00.618064Z",
     "iopub.status.busy": "2023-06-23T13:07:00.617674Z",
     "iopub.status.idle": "2023-06-23T13:07:01.302963Z",
     "shell.execute_reply": "2023-06-23T13:07:01.301675Z"
    },
    "papermill": {
     "duration": 0.706957,
     "end_time": "2023-06-23T13:07:01.305649",
     "exception": false,
     "start_time": "2023-06-23T13:07:00.598692",
     "status": "completed"
    },
    "tags": []
   },
   "outputs": [],
   "source": [
    "# Plotting PCA, n_components = 2\n",
    "plt.scatter(pca_data.iloc[:,0],pca_data.iloc[:,1])\n",
    "plt.xlabel('First Principal Component')\n",
    "plt.ylabel('Second Principal Component')\n",
    "plt.title('PCA Plot')"
   ]
  },
  {
   "cell_type": "code",
   "execution_count": null,
   "id": "8bfd88b8",
   "metadata": {
    "execution": {
     "iopub.execute_input": "2023-06-23T13:07:01.455767Z",
     "iopub.status.busy": "2023-06-23T13:07:01.455408Z",
     "iopub.status.idle": "2023-06-23T13:07:02.832987Z",
     "shell.execute_reply": "2023-06-23T13:07:02.831660Z"
    },
    "papermill": {
     "duration": 1.400236,
     "end_time": "2023-06-23T13:07:02.835458",
     "exception": false,
     "start_time": "2023-06-23T13:07:01.435222",
     "status": "completed"
    },
    "tags": []
   },
   "outputs": [],
   "source": [
    "# Applying elbow method to determine optimal n_clusters\n",
    "cs = []\n",
    "for i in range(1, 11):\n",
    "    kmeans = KMeans(n_clusters = i, init = 'k-means++', max_iter = 300, n_init = 10, random_state = 0)\n",
    "    kmeans.fit(data_scaled)\n",
    "    cs.append(kmeans.inertia_)\n",
    "\n",
    "plt.figure(figsize=(10, 6), dpi=80)\n",
    "plt.plot(range(1, 11), cs, color='blue')\n",
    "plt.title('Elbow Method')\n",
    "plt.xlabel('Number of clusters')\n",
    "plt.ylabel('CS')\n",
    "plt.show()"
   ]
  },
  {
   "cell_type": "code",
   "execution_count": null,
   "id": "482a311c",
   "metadata": {
    "execution": {
     "iopub.execute_input": "2023-06-23T13:07:02.958206Z",
     "iopub.status.busy": "2023-06-23T13:07:02.957798Z",
     "iopub.status.idle": "2023-06-23T13:07:05.153499Z",
     "shell.execute_reply": "2023-06-23T13:07:05.152360Z"
    },
    "papermill": {
     "duration": 2.219281,
     "end_time": "2023-06-23T13:07:05.155774",
     "exception": false,
     "start_time": "2023-06-23T13:07:02.936493",
     "status": "completed"
    },
    "tags": []
   },
   "outputs": [],
   "source": [
    "# Plotting a dendrogram\n",
    "import scipy.cluster.hierarchy as sch\n",
    "from matplotlib import pyplot\n",
    "pyplot.figure(figsize=(12, 5))\n",
    "dendrogram = sch.dendrogram(sch.linkage(data_scaled, method = 'ward'))\n",
    "plt.title('Dendrogram')\n",
    "plt.ylabel('Euclidean distances')\n",
    "plt.show()"
   ]
  },
  {
   "cell_type": "code",
   "execution_count": 17,
   "id": "d9e1e705",
   "metadata": {
    "execution": {
     "iopub.execute_input": "2023-06-23T13:07:05.277886Z",
     "iopub.status.busy": "2023-06-23T13:07:05.276916Z",
     "iopub.status.idle": "2023-06-23T13:07:05.305704Z",
     "shell.execute_reply": "2023-06-23T13:07:05.304764Z"
    },
    "papermill": {
     "duration": 0.052723,
     "end_time": "2023-06-23T13:07:05.308240",
     "exception": false,
     "start_time": "2023-06-23T13:07:05.255517",
     "status": "completed"
    },
    "tags": []
   },
   "outputs": [],
   "source": [
    "# Applying KMeans\n",
    "kmeans = KMeans(n_clusters = 3, n_init = 15, max_iter = 500, random_state = 42)\n",
    "clusters = kmeans.fit_predict(data_scaled)\n",
    "\n",
    "# Creating cluster centers\n",
    "centroids = kmeans.cluster_centers_\n",
    "centroids_pca = pca.transform(centroids)\n",
    "\n",
    "# Plotting PCA in color\n",
    "plt.figure(figsize=(12,10))\n",
    "plt.scatter(pca_data.iloc[:,0], pca_data.iloc[:,1], c=clusters, cmap=\"brg\", s=40)\n",
    "plt.scatter(x=centroids_pca[:,0], y=centroids_pca[:,1], marker=\"x\", s=500, linewidths=3, color=\"black\")\n",
    "plt.title('KMeans Clustered Data')\n",
    "plt.xlabel('Principal Component 1')\n",
    "plt.ylabel('Principal Component 2')"
   ]
  },
  {
   "cell_type": "code",
   "execution_count": 20,
   "id": "2676aa5b",
   "metadata": {
    "execution": {
     "iopub.execute_input": "2023-06-23T13:07:06.026555Z",
     "iopub.status.busy": "2023-06-23T13:07:06.026136Z",
     "iopub.status.idle": "2023-06-23T13:07:06.780417Z",
     "shell.execute_reply": "2023-06-23T13:07:06.779526Z"
    },
    "papermill": {
     "duration": 0.780256,
     "end_time": "2023-06-23T13:07:06.782895",
     "exception": false,
     "start_time": "2023-06-23T13:07:06.002639",
     "status": "completed"
    },
    "tags": []
   },
   "outputs": [],
   "source": [
    "# Apply t-SNE\n",
    "tsne = TSNE(n_components = 2)\n",
    "X_tsne = tsne.fit_transform(data_scaled)\n",
    "tsne_data = pd.DataFrame(data = X_tsne, columns = ['tsne comp. 1', 'tsne comp. 2'])\n",
    "\n",
    "# Plotting t-SNE Clusters\n",
    "plt.figure(figsize=(12,10))\n",
    "plt.scatter(tsne_data.iloc[:,0], tsne_data.iloc[:,1], c=clusters, cmap=\"brg\", s=40)\n",
    "plt.title('t-SNE Clustered Data')\n",
    "plt.xlabel('t-SNE Component 1')\n",
    "plt.ylabel('t-SNE Component 2')"
   ]
  }
 ],
 "metadata": {
  "kernelspec": {
   "display_name": "Python 3",
   "language": "python",
   "name": "python3"
  },
  "language_info": {
   "codemirror_mode": {
    "name": "ipython",
    "version": 3
   },
   "file_extension": ".py",
   "mimetype": "text/x-python",
   "name": "python",
   "nbconvert_exporter": "python",
   "pygments_lexer": "ipython3",
   "version": "3.9.16"
  },
  "papermill": {
   "default_parameters": {},
   "duration": 28.27538,
   "end_time": "2023-06-23T13:07:08.619160",
   "environment_variables": {},
   "exception": null,
   "input_path": "__notebook__.ipynb",
   "output_path": "__notebook__.ipynb",
   "parameters": {},
   "start_time": "2023-06-23T13:06:40.343780",
   "version": "2.4.0"
  }
 },
 "nbformat": 4,
 "nbformat_minor": 5
}
