{
 "cells": [
  {
   "cell_type": "code",
   "execution_count": null,
   "metadata": {
    "tags": []
   },
   "outputs": [],
   "source": [
    "import pandas as pd\n",
    "import numpy as np\n",
    "import matplotlib.pyplot as plt\n",
    "import sklearn.metrics as metrics\n",
    "import math\n",
    "from sklearn.base import BaseEstimator, TransformerMixin\n",
    "from sklearn.impute import SimpleImputer, MissingIndicator\n",
    "from sklearn.preprocessing import StandardScaler, PolynomialFeatures, KBinsDiscretizer\n",
    "from sklearn.pipeline import Pipeline\n",
    "from sklearn.compose import ColumnTransformer\n",
    "from sklearn import ensemble\n",
    "from sklearn.model_selection import GridSearchCV\n",
    "from sklearn.linear_model import LogisticRegression\n",
    "from sklearn.model_selection import RandomizedSearchCV\n",
    "from sklearn.svm import SVC\n",
    "from scipy.stats import uniform, randint\n",
    "\n",
    "df = pd.read_csv(\"lending.csv\")\n"
   ]
  },
  {
   "cell_type": "code",
   "execution_count": null,
   "metadata": {
    "tags": []
   },
   "outputs": [],
   "source": [
    "small_df = df\n",
    "small_df['int_rate'] = small_df['int_rate'].str.replace(\"%\", \"\").astype(float) / 100"
   ]
  },
  {
   "cell_type": "code",
   "execution_count": null,
   "metadata": {},
   "outputs": [],
   "source": [
    "\n",
    "# Features that we want to leave untransformed:\n",
    "# Only numeric features need apply:\n",
    "standardize_and_impute_only = [\n",
    "'loan_amnt'\n",
    ", 'annual_inc'\n",
    ", 'delinq_2yrs'\n",
    ", 'inq_last_6mths'\n",
    ", 'open_acc'\n",
    "]\n",
    "\n",
    "\n",
    "# maybe we will trying some polynomial transofmrations\n",
    "polynomial_features = [\n",
    "'installment'\n",
    ", 'dti'\n",
    "]\n",
    "\n",
    "# how about some discretizations?\n",
    "discretization = [\n",
    "'fico_range_low'\n",
    ", 'fico_range_high'\n",
    ", 'mths_since_last_delinq'\n",
    ", 'mths_since_last_record'\n",
    ", 'pub_rec'\n",
    ", 'revol_bal'\n",
    ", 'total_acc'\n",
    "]\n",
    "\n",
    "# let's construct all of our transformers\n",
    "standard_scaler = StandardScaler()\n",
    "missing_indicator = MissingIndicator(features=\"all\")\n",
    "simple_imputer = SimpleImputer(strategy='median')\n",
    "polynomial_featurizer = PolynomialFeatures(2)\n",
    "discretizer = KBinsDiscretizer(n_bins=8, encode='ordinal', strategy='uniform')\n",
    "\n",
    "# and make the pipelines\n",
    "standardize_and_impute_pipeline_steps = [('standardization', standard_scaler), ('imputer', simple_imputer)]\n",
    "standardize_and_impute_pipeline = Pipeline(standardize_and_impute_pipeline_steps)\n",
    "\n",
    "polynomial_pipeline_steps = standardize_and_impute_pipeline_steps + [('polynomial', polynomial_featurizer)]\n",
    "polynomial_pipeline = Pipeline(polynomial_pipeline_steps)\n",
    "\n",
    "discretize_steps = [('imputer', simple_imputer), ('discretize', discretizer)]\n",
    "discretize_pipeline = Pipeline(discretize_steps)\n",
    "\n",
    "interest_rate_steps = standardize_and_impute_pipeline_steps\n",
    "interest_rate_pipeline = Pipeline(interest_rate_steps)\n",
    "\n",
    "missing_flag_steps = [('missing_flag', missing_indicator)]\n",
    "missing_flag_pipeline = Pipeline(missing_flag_steps)\n",
    "\n",
    "#now we can use a ColumnTransformer to do everything\n",
    "transform_pipeline = ColumnTransformer([\n",
    "    ('standardize_and_impute_pipeline', standardize_and_impute_pipeline, standardize_and_impute_only)\n",
    "     , ('polynomial_pipeline', polynomial_pipeline, polynomial_features)\n",
    "     , ('discretize_pipeline', discretize_pipeline, discretization)\n",
    "     , ('interest_rate_pipeline', interest_rate_pipeline, ['int_rate'])\n",
    "     , ('missing_flag_pipeline', missing_flag_pipeline, standardize_and_impute_only + polynomial_features + discretization)\n",
    "])\n",
    "\n",
    "X = small_df.drop(['loan_status'], axis = 1)\n",
    "y = small_df[['loan_status']]"
   ]
  },
  {
   "cell_type": "code",
   "execution_count": null,
   "metadata": {},
   "outputs": [],
   "source": [
    "\n",
    "rf = ensemble.RandomForestClassifier()\n",
    "\n",
    "pipeline_rf = Pipeline([('transform', transform_pipeline)\n",
    "                     , ('rf', rf)\n",
    "                    ]\n",
    "                   )\n",
    "\n",
    "\n",
    "parameters_rf = {'rf__max_depth': [1, 3, 8]\n",
    "      , 'rf__min_samples_leaf' : [5,50,1000]\n",
    "      }\n",
    "\n",
    "rf_pipeline = GridSearchCV(pipeline_rf, parameters_rf, cv=5, scoring='roc_auc', verbose=3, n_jobs=6)\n",
    "\n",
    "rf_pipeline.fit(X, y.values.ravel())\n",
    "\n",
    "print(rf_pipeline.best_params_)\n"
   ]
  },
  {
   "cell_type": "code",
   "execution_count": null,
   "metadata": {
    "tags": []
   },
   "outputs": [],
   "source": [
    "\n",
    "\n",
    "rf_probs = rf_pipeline.predict_proba(X)\n",
    "rf_preds = rf_probs[:,1]\n",
    "rf_fpr, rf_tpr, rf_threshold = metrics.roc_curve(y, rf_preds)\n",
    "rf_roc_auc = metrics.auc(rf_fpr, rf_tpr)\n",
    "\n",
    "# method I: plt\n",
    "rf_fig = plt.figure(figsize=(6,2))\n",
    "\n",
    "plt.title('Receiver Operating Characteristic')\n",
    "plt.plot(rf_fpr, rf_tpr, 'b', label = 'AUC = %0.2f' % rf_roc_auc)\n",
    "plt.legend(loc = 'lower right')\n",
    "plt.plot([0, 1], [0, 1],'r--')\n",
    "plt.xlim([0, 1])\n",
    "plt.ylim([0, 1])\n",
    "plt.ylabel('True Positive Rate')\n",
    "plt.xlabel('False Positive Rate')\n",
    "\n"
   ]
  },
  {
   "cell_type": "code",
   "execution_count": null,
   "metadata": {},
   "outputs": [],
   "source": [
    "logistic_reg = LogisticRegression(penalty='elasticnet', solver='saga',C=0.5, max_iter=1000)\n",
    "\n",
    "pipeline_log = Pipeline([('transform', transform_pipeline)\n",
    "                     , ('logistic_reg', logistic_reg)\n",
    "                    ]\n",
    "                   )\n",
    "\n",
    "parameters_log = { 'logistic_reg__l1_ratio': [.1, .3, .8] }\n",
    "\n",
    "logistic_pipeline = GridSearchCV(pipeline_log, parameters_log, cv=5, scoring='roc_auc', verbose=3, n_jobs=6)\n",
    "\n",
    "logistic_pipeline.fit(X, y.values.ravel())\n",
    "\n",
    "print(logistic_pipeline.best_params_)\n",
    "\n"
   ]
  },
  {
   "cell_type": "code",
   "execution_count": null,
   "metadata": {
    "tags": []
   },
   "outputs": [],
   "source": [
    "\n",
    "log_probs = logistic_pipeline.predict_proba(X)\n",
    "log_preds = log_probs[:,1]\n",
    "log_fpr, log_tpr, log_threshold = metrics.roc_curve(y, log_preds)\n",
    "log_roc_auc = metrics.auc(log_fpr, log_tpr)\n",
    "\n",
    "# method I: plt\n",
    "log_fig = plt.figure(figsize=(6,2))\n",
    "\n",
    "plt.title('Receiver Operating Characteristic')\n",
    "plt.plot(log_fpr, log_tpr, 'b', label = 'AUC = %0.2f' % log_roc_auc)\n",
    "plt.legend(loc = 'lower right')\n",
    "plt.plot([0, 1], [0, 1],'r--')\n",
    "plt.xlim([0, 1])\n",
    "plt.ylim([0, 1])\n",
    "plt.ylabel('True Positive Rate')\n",
    "plt.xlabel('False Positive Rate')\n",
    "\n"
   ]
  },
  {
   "cell_type": "code",
   "execution_count": null,
   "metadata": {},
   "outputs": [],
   "source": [
    "\n",
    "svc_model = SVC(gamma='auto', probability=True)\n",
    "\n",
    "pipeline_svc = Pipeline([('transform', transform_pipeline)\n",
    "                     , ('svc_model', svc_model)\n",
    "                    ]\n",
    "                   )\n",
    "\n",
    "parameters_svc = { \"svc_model__C\": [.1, .3] }\n",
    "\n",
    "svc_pipeline = GridSearchCV(pipeline_svc, parameters_svc, cv=5, scoring='roc_auc', verbose=3, n_jobs=6)\n",
    "\n",
    "svc_pipeline.fit(X, y.values.ravel())\n",
    "\n",
    "print(svc_pipeline.best_params_)\n",
    "\n"
   ]
  },
  {
   "cell_type": "code",
   "execution_count": null,
   "metadata": {
    "tags": []
   },
   "outputs": [],
   "source": [
    "\n",
    "svc_probs = svc_pipeline.predict_proba(X)\n",
    "svc_preds = svc_probs[:,1]\n",
    "svc_fpr, svc_tpr, svc_threshold = metrics.roc_curve(y, svc_preds)\n",
    "svc_roc_auc = metrics.auc(svc_fpr, svc_tpr)\n",
    "\n",
    "svc_fig = plt.figure(figsize=(6,2))\n",
    "plt.title('Receiver Operating Characteristic')\n",
    "plt.plot(svc_fpr, svc_tpr, 'b', label = 'AUC = %0.2f' % svc_roc_auc)\n",
    "plt.legend(loc = 'lower right')\n",
    "plt.plot([0, 1], [0, 1],'r--')\n",
    "plt.xlim([0, 1])\n",
    "plt.ylim([0, 1])\n",
    "plt.ylabel('True Positive Rate')\n",
    "plt.xlabel('False Positive Rate')"
   ]
  },
  {
   "cell_type": "code",
   "execution_count": null,
   "metadata": {},
   "outputs": [],
   "source": [
    "model_roc_dict = {'Random\\nForest': rf_pipeline.best_score_\n",
    "                  , 'Logistic\\nRegression': logistic_pipeline.best_score_\n",
    "                  , \"Support Vector\\nClassifier\": svc_pipeline.best_score_\n",
    "                 }\n",
    "\n",
    "names = list(model_roc_dict.keys())\n",
    "values = list(model_roc_dict.values())\n",
    "\n",
    "fig = plt.figure(figsize=(6,2))\n",
    "\n",
    "plt.bar(range(len(model_roc_dict)), values, tick_label=names)\n",
    "plt.show()\n"
   ]
  }
 ],
 "metadata": {
  "kernelspec": {
   "display_name": "Python 3",
   "language": "python",
   "name": "python3"
  },
  "language_info": {
   "codemirror_mode": {
    "name": "ipython",
    "version": 3
   },
   "file_extension": ".py",
   "mimetype": "text/x-python",
   "name": "python",
   "nbconvert_exporter": "python",
   "pygments_lexer": "ipython3",
   "version": "3.9.2"
  }
 },
 "nbformat": 4,
 "nbformat_minor": 4
}
